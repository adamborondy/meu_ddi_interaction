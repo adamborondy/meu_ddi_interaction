{
 "cells": [
  {
   "cell_type": "code",
   "execution_count": 1,
   "id": "92c2f924-1aa7-423a-a152-fd21f4241822",
   "metadata": {
    "scrolled": true
   },
   "outputs": [
    {
     "name": "stderr",
     "output_type": "stream",
     "text": [
      "/var/folders/5l/zg92rvh50792032mpqnwpydw0000gn/T/ipykernel_28556/3836467874.py:2: DeprecationWarning: \n",
      "Pyarrow will become a required dependency of pandas in the next major release of pandas (pandas 3.0),\n",
      "(to allow more performant data types, such as the Arrow string type, and better interoperability with other libraries)\n",
      "but was not found to be installed on your system.\n",
      "If this would cause problems for you,\n",
      "please provide us feedback at https://github.com/pandas-dev/pandas/issues/54466\n",
      "        \n",
      "  import pandas as pd\n"
     ]
    }
   ],
   "source": [
    "from SPARQLWrapper import SPARQLWrapper, JSON\n",
    "import pandas as pd\n",
    "import numpy as np\n",
    "import datetime\n",
    "import sqlite3"
   ]
  },
  {
   "cell_type": "markdown",
   "id": "5e41ec98-a845-4464-ab98-31b1d3515607",
   "metadata": {},
   "source": [
    "1) Define a databank table with the available drugs to be prescribed. For the sake of simplicity take the unique ones from the same source, that will be also used for the interaction detection."
   ]
  },
  {
   "cell_type": "code",
   "execution_count": 2,
   "id": "33c5ad7d-1207-4889-8d11-0a07518600c7",
   "metadata": {
    "scrolled": true
   },
   "outputs": [
    {
     "data": {
      "text/html": [
       "<div>\n",
       "<style scoped>\n",
       "    .dataframe tbody tr th:only-of-type {\n",
       "        vertical-align: middle;\n",
       "    }\n",
       "\n",
       "    .dataframe tbody tr th {\n",
       "        vertical-align: top;\n",
       "    }\n",
       "\n",
       "    .dataframe thead th {\n",
       "        text-align: right;\n",
       "    }\n",
       "</style>\n",
       "<table border=\"1\" class=\"dataframe\">\n",
       "  <thead>\n",
       "    <tr style=\"text-align: right;\">\n",
       "      <th></th>\n",
       "      <th>id</th>\n",
       "      <th>drug_name</th>\n",
       "    </tr>\n",
       "  </thead>\n",
       "  <tbody>\n",
       "    <tr>\n",
       "      <th>0</th>\n",
       "      <td>DB00088</td>\n",
       "      <td>Alglucerase</td>\n",
       "    </tr>\n",
       "    <tr>\n",
       "      <th>1</th>\n",
       "      <td>DB00089</td>\n",
       "      <td>Capromab</td>\n",
       "    </tr>\n",
       "    <tr>\n",
       "      <th>2</th>\n",
       "      <td>DB00090</td>\n",
       "      <td>Laronidase</td>\n",
       "    </tr>\n",
       "    <tr>\n",
       "      <th>3</th>\n",
       "      <td>DB00091</td>\n",
       "      <td>Cyclosporine</td>\n",
       "    </tr>\n",
       "    <tr>\n",
       "      <th>4</th>\n",
       "      <td>DB00092</td>\n",
       "      <td>Alefacept</td>\n",
       "    </tr>\n",
       "  </tbody>\n",
       "</table>\n",
       "</div>"
      ],
      "text/plain": [
       "        id     drug_name\n",
       "0  DB00088   Alglucerase\n",
       "1  DB00089      Capromab\n",
       "2  DB00090    Laronidase\n",
       "3  DB00091  Cyclosporine\n",
       "4  DB00092     Alefacept"
      ]
     },
     "execution_count": 2,
     "metadata": {},
     "output_type": "execute_result"
    }
   ],
   "source": [
    "sparql = SPARQLWrapper(\"https://bio2rdf.org/sparql\")\n",
    "\n",
    "query = \"\"\"\n",
    "PREFIX dv: <http://bio2rdf.org/drugbank_vocabulary:>\n",
    "PREFIX brv: <http://bio2rdf.org/bio2rdf_vocabulary:>\n",
    "PREFIX dct: <http://purl.org/dc/terms/>\n",
    "\n",
    "SELECT DISTINCT ?id ?name\n",
    "WHERE {\n",
    "  ?escitalopram a dv:Drug .\n",
    "  ?escitalopram brv:identifier ?id .\n",
    "  ?escitalopram dct:title ?name\n",
    "  FILTER(LANG(?name) = \"en\") .\n",
    "}\n",
    "\"\"\"\n",
    "sparql.setQuery(query)\n",
    "sparql.setReturnFormat(JSON)\n",
    "ddi_df = sparql.query().convert()\n",
    "\n",
    "data = []\n",
    "\n",
    "for r in ddi_df[\"results\"][\"bindings\"]:\n",
    "    drug_id = r[\"id\"][\"value\"]\n",
    "    drug_name = r[\"name\"][\"value\"]\n",
    "    data.append((drug_id, drug_name))\n",
    "\n",
    "drug_df = pd.DataFrame(data, columns=['id', 'drug_name'])\n",
    "drug_df.head()"
   ]
  },
  {
   "cell_type": "code",
   "execution_count": 3,
   "id": "f6fba756-617c-4b70-a6c1-26616cd6bfcc",
   "metadata": {},
   "outputs": [
    {
     "name": "stdout",
     "output_type": "stream",
     "text": [
      "[('DB00088', 'Alglucerase'), ('DB00089', 'Capromab'), ('DB00090', 'Laronidase'), ('DB00091', 'Cyclosporine'), ('DB00092', 'Alefacept'), ('DB00093', 'Felypressin'), ('DB00094', 'Urofollitropin'), ('DB00095', 'Efalizumab'), ('DB00096', 'Serum albumin'), ('DB00097', 'Choriogonadotropin alfa')]\n"
     ]
    }
   ],
   "source": [
    "db = sqlite3.connect('ddi.db')\n",
    "cursor = db.cursor()\n",
    "cursor.execute('''\n",
    "    DROP TABLE IF EXISTS drugs;\n",
    "''')\n",
    "cursor.execute('''\n",
    "    CREATE TABLE drugs (\n",
    "        id TEXT PRIMARY KEY,\n",
    "        drug_name TEXT NOT NULL\n",
    "    );\n",
    "''')\n",
    "drug_df.to_sql('drugs', db, if_exists='replace', index=False)\n",
    "db.commit()\n",
    "cursor.execute('SELECT * FROM drugs LIMIT 10')\n",
    "print(cursor.fetchall())"
   ]
  },
  {
   "cell_type": "markdown",
   "id": "8847adf7-0d85-426d-a046-923233eb87d2",
   "metadata": {},
   "source": [
    "2) Define patient table as an oversimplified version of any electronic patient management system"
   ]
  },
  {
   "cell_type": "code",
   "execution_count": 4,
   "id": "fd2c950b-fca7-4c09-bdd5-4241f9cdf53b",
   "metadata": {
    "scrolled": true
   },
   "outputs": [
    {
     "name": "stdout",
     "output_type": "stream",
     "text": [
      "[(1, '1997-07-18 00:00:00', 'Max Mustermann'), (2, '1994-02-24 00:00:00', 'Erika Musterfrau')]\n"
     ]
    }
   ],
   "source": [
    "db = sqlite3.connect('ddi.db')\n",
    "cursor = db.cursor()\n",
    "cursor.execute('''\n",
    "    DROP TABLE IF EXISTS patients;\n",
    "''')\n",
    "cursor.execute('''\n",
    "     CREATE TABLE patients (\n",
    "        id INTEGER PRIMARY KEY AUTOINCREMENT,\n",
    "        birth_date DATE NOT NULL,\n",
    "        name TEXT NOT NULL\n",
    "    );\n",
    "''')\n",
    "cursor.execute('INSERT INTO patients (birth_date, name) VALUES (?, ?)', (datetime.datetime(1997, 7, 18), \"Max Mustermann\"))\n",
    "cursor.execute('INSERT INTO patients (birth_date, name) VALUES (?, ?)', (datetime.datetime(1994, 2, 24), \"Erika Musterfrau\"))\n",
    "db.commit()\n",
    "cursor.execute('SELECT * FROM patients')\n",
    "print(cursor.fetchall())\n",
    "db.close()"
   ]
  },
  {
   "cell_type": "markdown",
   "id": "9b93a9c0-719f-440d-801b-f5a48c1f889e",
   "metadata": {},
   "source": [
    "3) Define prescriptions table as a simulation of any e-prescription extension of the above system"
   ]
  },
  {
   "cell_type": "code",
   "execution_count": 5,
   "id": "b0f7301d-dffc-45a5-8709-e587cdc5c64d",
   "metadata": {},
   "outputs": [
    {
     "name": "stdout",
     "output_type": "stream",
     "text": [
      "[(1, 'DB01175'), (2, 'DB01012')]\n"
     ]
    }
   ],
   "source": [
    "db = sqlite3.connect('ddi.db')\n",
    "cursor = db.cursor()\n",
    "cursor.execute('''\n",
    "    DROP TABLE IF EXISTS prescriptions;\n",
    "''')\n",
    "cursor.execute('''\n",
    "    CREATE TABLE prescriptions (\n",
    "        patient_id INTEGER NOT NULL,\n",
    "        drug_id TEXT NOT NULL,\n",
    "        FOREIGN KEY (patient_id) REFERENCES patients(id),\n",
    "        FOREIGN KEY (drug_id) REFERENCES drugs(id)\n",
    "    );\n",
    "''')\n",
    "cursor.execute('INSERT INTO prescriptions (patient_id, drug_id) VALUES (?, ?)', (1, \"DB01175\"))\n",
    "cursor.execute('INSERT INTO prescriptions (patient_id, drug_id) VALUES (?, ?)', (2, \"DB01012\"))\n",
    "db.commit()\n",
    "\n",
    "cursor.execute('SELECT * FROM prescriptions')\n",
    "print(cursor.fetchall())\n",
    "\n",
    "db.close()"
   ]
  },
  {
   "cell_type": "markdown",
   "id": "96fff4c1-6156-4a7b-8543-b1b8707379fc",
   "metadata": {},
   "source": [
    "Query 1: Sample query for interaction within the tool"
   ]
  },
  {
   "cell_type": "code",
   "execution_count": 6,
   "id": "cbdb13fe-9755-4b63-8b02-025673ffa6ba",
   "metadata": {},
   "outputs": [],
   "source": [
    "def get_db_connection():\n",
    "    conn = sqlite3.connect('ddi.db')\n",
    "    return conn\n",
    "\n",
    "conn = get_db_connection()\n",
    "patients = conn.execute('''\n",
    "               SELECT p.drug_id, d.drug_name\n",
    "               FROM prescriptions p\n",
    "               INNER JOIN drugs d ON p.drug_id = d.id\n",
    "               WHERE p.patient_id = 1\n",
    "''').fetchall()\n",
    "conn.close()"
   ]
  },
  {
   "cell_type": "markdown",
   "id": "8ce67159-8434-4491-93a0-bf93a0a8d03f",
   "metadata": {},
   "source": [
    "Query 2: DDI Query to used as a service in the tool"
   ]
  },
  {
   "cell_type": "code",
   "execution_count": 7,
   "id": "7ae69ced-8e8f-4797-aa6b-0ad0ae6720a6",
   "metadata": {},
   "outputs": [],
   "source": [
    "sparql = SPARQLWrapper(\"https://bio2rdf.org/sparql\")\n",
    "\n",
    "drug_id = \"DB01175\"\n",
    "\n",
    "query = f\"\"\"\n",
    "PREFIX dv: <http://bio2rdf.org/drugbank_vocabulary:>\n",
    "PREFIX brv: <http://bio2rdf.org/bio2rdf_vocabulary:>\n",
    "PREFIX dct: <http://purl.org/dc/terms/>\n",
    "\n",
    "SELECT DISTINCT ?object\n",
    "WHERE {{\n",
    "  ?escitalopram a dv:Drug .\n",
    "  ?escitalopram brv:identifier ?id .\n",
    "  ?escitalopram dv:ddi-interactor-in ?drug_interaction .\n",
    "  ?drug_interaction brv:identifier ?object .\n",
    "  FILTER(STR(?id) = \"{drug_id}\") .\n",
    "}}\n",
    "\"\"\"\n",
    "\n",
    "sparql.setQuery(query)\n",
    "sparql.setReturnFormat(JSON)\n",
    "ddi_df = sparql.query().convert()\n",
    "\n",
    "data = []\n",
    "\n",
    "for r in ddi_df[\"results\"][\"bindings\"]:\n",
    "    drug_ids = r[\"object\"][\"value\"]\n",
    "    data.append(drug_ids)\n",
    "\n",
    "ddi_res = pd.DataFrame(data, columns=['ddi'])\n",
    "ddi_res = ddi_res['ddi'].str.split('_').explode().unique()"
   ]
  }
 ],
 "metadata": {
  "kernelspec": {
   "display_name": "Python 3 (ipykernel)",
   "language": "python",
   "name": "python3"
  },
  "language_info": {
   "codemirror_mode": {
    "name": "ipython",
    "version": 3
   },
   "file_extension": ".py",
   "mimetype": "text/x-python",
   "name": "python",
   "nbconvert_exporter": "python",
   "pygments_lexer": "ipython3",
   "version": "3.12.1"
  }
 },
 "nbformat": 4,
 "nbformat_minor": 5
}
